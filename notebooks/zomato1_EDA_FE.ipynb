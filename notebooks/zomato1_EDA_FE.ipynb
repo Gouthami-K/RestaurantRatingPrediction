{
 "cells": [
  {
   "cell_type": "code",
   "execution_count": 1,
   "id": "ac347dbd",
   "metadata": {},
   "outputs": [],
   "source": [
    "# Importing the required libraries\n",
    "import io\n",
    "import pandas as pd\n",
    "import numpy as np\n",
    "import matplotlib.pyplot as plt\n",
    "%matplotlib inline \n",
    "# the plot will be visible in jupyter only insted of separate window\n",
    "import seaborn as sns"
   ]
  },
  {
   "cell_type": "code",
   "execution_count": 8,
   "id": "8986fef6",
   "metadata": {},
   "outputs": [],
   "source": [
    "# Reading the zomato.csv dataset\n",
    "df = pd.read_csv('D:\\\\final internship projects with deployment-FSDSM\\\\RestaurantRatingPrediction\\\\notebooks\\\\data\\\\NEW_ZOMATO.csv')"
   ]
  },
  {
   "cell_type": "code",
   "execution_count": 9,
   "id": "d02d93a3",
   "metadata": {},
   "outputs": [
    {
     "data": {
      "text/html": [
       "<div>\n",
       "<style scoped>\n",
       "    .dataframe tbody tr th:only-of-type {\n",
       "        vertical-align: middle;\n",
       "    }\n",
       "\n",
       "    .dataframe tbody tr th {\n",
       "        vertical-align: top;\n",
       "    }\n",
       "\n",
       "    .dataframe thead th {\n",
       "        text-align: right;\n",
       "    }\n",
       "</style>\n",
       "<table border=\"1\" class=\"dataframe\">\n",
       "  <thead>\n",
       "    <tr style=\"text-align: right;\">\n",
       "      <th></th>\n",
       "      <th>online_order</th>\n",
       "      <th>book_table</th>\n",
       "      <th>rate</th>\n",
       "      <th>votes</th>\n",
       "      <th>location</th>\n",
       "      <th>rest_type</th>\n",
       "      <th>cuisines</th>\n",
       "      <th>approx_cost(for two people)</th>\n",
       "      <th>listed_in(type)</th>\n",
       "    </tr>\n",
       "  </thead>\n",
       "  <tbody>\n",
       "    <tr>\n",
       "      <th>0</th>\n",
       "      <td>Yes</td>\n",
       "      <td>Yes</td>\n",
       "      <td>4.1/5</td>\n",
       "      <td>775</td>\n",
       "      <td>Banashankari</td>\n",
       "      <td>Casual Dining</td>\n",
       "      <td>North Indian, Mughlai, Chinese</td>\n",
       "      <td>800</td>\n",
       "      <td>Buffet</td>\n",
       "    </tr>\n",
       "    <tr>\n",
       "      <th>1</th>\n",
       "      <td>Yes</td>\n",
       "      <td>No</td>\n",
       "      <td>4.1/5</td>\n",
       "      <td>787</td>\n",
       "      <td>Banashankari</td>\n",
       "      <td>Casual Dining</td>\n",
       "      <td>Chinese, North Indian, Thai</td>\n",
       "      <td>800</td>\n",
       "      <td>Buffet</td>\n",
       "    </tr>\n",
       "  </tbody>\n",
       "</table>\n",
       "</div>"
      ],
      "text/plain": [
       "  online_order book_table   rate  votes      location      rest_type  \\\n",
       "0          Yes        Yes  4.1/5    775  Banashankari  Casual Dining   \n",
       "1          Yes         No  4.1/5    787  Banashankari  Casual Dining   \n",
       "\n",
       "                         cuisines approx_cost(for two people) listed_in(type)  \n",
       "0  North Indian, Mughlai, Chinese                         800          Buffet  \n",
       "1     Chinese, North Indian, Thai                         800          Buffet  "
      ]
     },
     "execution_count": 9,
     "metadata": {},
     "output_type": "execute_result"
    }
   ],
   "source": [
    "df.head(2)"
   ]
  },
  {
   "cell_type": "code",
   "execution_count": 10,
   "id": "5cabdfb5",
   "metadata": {},
   "outputs": [
    {
     "data": {
      "text/plain": [
       "(51717, 9)"
      ]
     },
     "execution_count": 10,
     "metadata": {},
     "output_type": "execute_result"
    }
   ],
   "source": [
    "df.shape"
   ]
  },
  {
   "cell_type": "markdown",
   "id": "91a06e2a",
   "metadata": {},
   "source": [
    "# handling rate"
   ]
  },
  {
   "cell_type": "code",
   "execution_count": 11,
   "id": "f9093cb9",
   "metadata": {},
   "outputs": [],
   "source": [
    "def handle_rate_column(df, column_name=\"rate\"):\n",
    "    \n",
    "    df[column_name] = df[column_name].apply(lambda value: np.nan if value in [\"NEW\", \"-\"] else float(str(value).split(\"/\")[0]))\n",
    "    \n",
    "    # Replacing null values with the mean\n",
    "    df[column_name].fillna(df[column_name].mean(), inplace=True)\n",
    "        \n"
   ]
  },
  {
   "cell_type": "code",
   "execution_count": 12,
   "id": "0a0e2022",
   "metadata": {},
   "outputs": [],
   "source": [
    "# Call the function with your DataFrame\n",
    "handle_rate_column(df)"
   ]
  },
  {
   "cell_type": "markdown",
   "id": "8bb7b809",
   "metadata": {},
   "source": [
    "# threshold for categorical values"
   ]
  },
  {
   "cell_type": "code",
   "execution_count": 13,
   "id": "c76c0b58",
   "metadata": {},
   "outputs": [],
   "source": [
    "def handle_categorical_columns(data, column_thresholds):  \n",
    "    for column_name, threshold in column_thresholds.items():\n",
    "        column_count = data[column_name].value_counts()\n",
    "        categories_below_threshold = column_count[column_count < threshold].index\n",
    "        data[column_name] = np.where(data[column_name].isin(categories_below_threshold), 'others', data[column_name])\n",
    "        print(f\"Updated column '{column_name}' with threshold {threshold}\")"
   ]
  },
  {
   "cell_type": "code",
   "execution_count": 14,
   "id": "fceeff98",
   "metadata": {},
   "outputs": [
    {
     "name": "stdout",
     "output_type": "stream",
     "text": [
      "Updated column 'rest_type' with threshold 1000\n",
      "Updated column 'cuisines' with threshold 300\n",
      "Updated column 'location' with threshold 500\n"
     ]
    }
   ],
   "source": [
    "# Handle categorical columns\n",
    "column_thresholds = {\"rest_type\": 1000, \"cuisines\": 300, \"location\": 500}\n",
    "handle_categorical_columns(df, column_thresholds)"
   ]
  },
  {
   "cell_type": "code",
   "execution_count": null,
   "id": "c19d2488",
   "metadata": {},
   "outputs": [],
   "source": [
    "# Creating a csv file for further process\n",
    "df.to_csv(\"EDA_FE.csv\",index=False)"
   ]
  },
  {
   "cell_type": "code",
   "execution_count": null,
   "id": "fc91c6bf",
   "metadata": {},
   "outputs": [],
   "source": []
  },
  {
   "cell_type": "code",
   "execution_count": null,
   "id": "a63b83ce",
   "metadata": {},
   "outputs": [],
   "source": []
  },
  {
   "cell_type": "code",
   "execution_count": null,
   "id": "c3bdc6ec",
   "metadata": {},
   "outputs": [],
   "source": []
  },
  {
   "cell_type": "code",
   "execution_count": null,
   "id": "ccbb8c26",
   "metadata": {},
   "outputs": [],
   "source": []
  }
 ],
 "metadata": {
  "kernelspec": {
   "display_name": "Python 3 (ipykernel)",
   "language": "python",
   "name": "python3"
  },
  "language_info": {
   "codemirror_mode": {
    "name": "ipython",
    "version": 3
   },
   "file_extension": ".py",
   "mimetype": "text/x-python",
   "name": "python",
   "nbconvert_exporter": "python",
   "pygments_lexer": "ipython3",
   "version": "3.8.18"
  }
 },
 "nbformat": 4,
 "nbformat_minor": 5
}
